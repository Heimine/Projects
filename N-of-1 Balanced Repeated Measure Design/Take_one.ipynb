{
 "cells": [
  {
   "cell_type": "code",
   "execution_count": 1,
   "metadata": {},
   "outputs": [],
   "source": [
    "import numpy as np"
   ]
  },
  {
   "cell_type": "code",
   "execution_count": 273,
   "metadata": {},
   "outputs": [],
   "source": [
    "# Mainly focus on AB case\n",
    "def check_seq(criterion, sequence):\n",
    "    \"\"\"\n",
    "    Parameters:\n",
    "    ----------------\n",
    "    \n",
    "    criterion: a string illustrating first order or second order\n",
    "    sequence: the sequence to be check\n",
    "    \"\"\"\n",
    "    seq_list = list(sequence)\n",
    "    # First check if # of A and B are the same\n",
    "    if sequence.count(\"A\") - sequence.count(\"B\") > 2:\n",
    "        print(\"Number of A and number of B difference too big\")\n",
    "        return False\n",
    "    # Then check second order conditions\n",
    "    elif \"second\" in criterion:\n",
    "        AA_to_A, AA_to_B, AB_to_A, AB_to_B, BA_to_A, BA_to_B, BB_to_A, BB_to_B = 0, 0, 0, 0, 0, 0, 0, 0\n",
    "        for i in range(len(seq_list)):\n",
    "            if i > 1:\n",
    "                present = seq_list[i]\n",
    "                prior = seq_list[i-2] + seq_list[i-1]\n",
    "                if prior == \"AA\":\n",
    "                    if present == \"A\":\n",
    "                        AA_to_A += 1\n",
    "                    else:\n",
    "                        AA_to_B += 1\n",
    "                elif prior == \"AB\":\n",
    "                    if present == \"A\":\n",
    "                        AB_to_A += 1\n",
    "                    else:\n",
    "                        AB_to_B += 1\n",
    "                elif prior == \"BA\":\n",
    "                    if present == \"A\":\n",
    "                        BA_to_A += 1\n",
    "                    else:\n",
    "                        BA_to_B += 1\n",
    "                else:\n",
    "                    if present == \"A\":\n",
    "                        BB_to_A += 1\n",
    "                    else:\n",
    "                        BB_to_B += 1\n",
    "        if AA_to_A == AA_to_B == AB_to_A == AB_to_B == BA_to_A == BA_to_B == BB_to_A == BB_to_B:\n",
    "            # Still need to check first order condition\n",
    "            return check_seq(\"first\", sequence)\n",
    "        else:\n",
    "            print(\"AA before A: {}\".format(AA_to_A))\n",
    "            print(\"AA before B: {}\".format(AA_to_B))\n",
    "            print(\"AB before A: {}\".format(AB_to_A))\n",
    "            print(\"AB before B: {}\".format(AB_to_B))\n",
    "            print(\"BA before A: {}\".format(BA_to_A))\n",
    "            print(\"BA before B: {}\".format(BA_to_B))\n",
    "            print(\"BB before A: {}\".format(BB_to_A))\n",
    "            print(\"BB before B: {}\".format(BB_to_B))\n",
    "            return False\n",
    "    # Now check first order conditions\n",
    "    else:\n",
    "        A_to_B, B_to_B, A_to_A, B_to_A = 0, 0, 0, 0\n",
    "        for i in range(len(seq_list)):\n",
    "            if i > 0:\n",
    "                present = seq_list[i]\n",
    "                prior = seq_list[i - 1]\n",
    "                if prior == \"A\" and present == \"A\":\n",
    "                    A_to_A += 1\n",
    "                elif prior == \"A\" and present == \"B\":\n",
    "                    A_to_B += 1\n",
    "                elif present == \"A\":\n",
    "                    B_to_A += 1\n",
    "                else:\n",
    "                    B_to_B += 1\n",
    "        if A_to_B == B_to_B == A_to_A == B_to_A:\n",
    "            return True\n",
    "        else:\n",
    "            print(\"A before B: {}\".format(A_to_B))\n",
    "            print(\"B before B: {}\".format(B_to_B))\n",
    "            print(\"B before A: {}\".format(B_to_A))\n",
    "            print(\"A before A: {}\".format(A_to_A))\n",
    "            return False\n",
    "                "
   ]
  },
  {
   "cell_type": "code",
   "execution_count": 269,
   "metadata": {},
   "outputs": [
    {
     "data": {
      "text/plain": [
       "True"
      ]
     },
     "execution_count": 269,
     "metadata": {},
     "output_type": "execute_result"
    }
   ],
   "source": [
    "a = \"AA\"\n",
    "b = \"AB\"\n",
    "c = \"BA\"\n",
    "d = \"BB\"\n",
    "Seq_1 = b+d+a+c\n",
    "Seq_2 = a+c+b+d\n",
    "Seq_3 = b+d+a+c + a+c+b+d\n",
    "Seq_4 = d+a+c+b # Strange\n",
    "Seq_5 = c+b+d+a\n",
    "Seq_6 = d+a+c+b + c+b+d+a\n",
    "Seq_7 = b+d+a+c + d+a+c+b + a+c+b+d + c+b+d+a\n",
    "check_seq(\"first\", Seq_5 + Seq_7 + Seq_6 + Seq_7 + Seq_6 + Seq_5 + Seq_7 + \"B\")"
   ]
  },
  {
   "cell_type": "code",
   "execution_count": 270,
   "metadata": {},
   "outputs": [
    {
     "name": "stdout",
     "output_type": "stream",
     "text": [
      "16\n"
     ]
    }
   ],
   "source": [
    "from itertools import permutations\n",
    "perm = permutations([a,b,c,d])\n",
    "add_on_list = [\"A\", \"B\"]\n",
    "result_list = []\n",
    "\n",
    "for order_list in perm:\n",
    "    seq = \"\"\n",
    "    for item in order_list:\n",
    "        seq += item\n",
    "    for add_on in add_on_list:\n",
    "        new_seq = seq + add_on\n",
    "        if check_seq(\"first\", new_seq):\n",
    "            result_list.append(new_seq)\n",
    "print(len(result_list))"
   ]
  },
  {
   "cell_type": "markdown",
   "metadata": {},
   "source": [
    "## Sequence that works (first order):<br>\n",
    "Seq_1 = bdac |+ \"A\"<br>\n",
    "Seq_2 = acbd |+ \"A\" <br>\n",
    "Seq_3 = bdac + acbd |+ \"A\"<br>\n",
    "Seq_4 = dacb |+ \"B\"<br>\n",
    "Seq_5 = cbda |+ \"B\"<br>\n",
    "Seq_6 = dacb + cbda |+ \"B\"<br>\n",
    "Seq_7 = bdac + dacb + acbd + cbda |+ \"A\" <br>\n",
    "\n",
    "Any combination of 1 and 2 and 3 plus \"A\", any combination of 4 and 5 and 6 plus \"B\", Any combination of 1, 2, 3, 7 plus \"A\", sequence of 745, 746, 756, 765(could be multiple) and any combination of 7, 5, 6 plus \"A\", sequence of 457, 467, 567, 657, 576(could be multiple) and any combination of 7, 5, 6 plus \"B\"."
   ]
  },
  {
   "cell_type": "markdown",
   "metadata": {},
   "source": [
    "## Now consider second order"
   ]
  },
  {
   "cell_type": "code",
   "execution_count": 251,
   "metadata": {},
   "outputs": [],
   "source": [
    "e = \"AAA\"\n",
    "f = \"AAB\"\n",
    "g = \"ABA\"\n",
    "h = \"ABB\"\n",
    "I = \"BAA\"\n",
    "j = \"BAB\"\n",
    "k = \"BBA\"\n",
    "l = \"BBB\"\n",
    "# perm = permutations([e,f,g,h,i,j,k,l])\n",
    "# count = 0\n",
    "# index = 3\n",
    "\n",
    "# for order_list in perm:\n",
    "#     seq = \"\"\n",
    "#     for item in order_list:\n",
    "#         seq += item\n",
    "#     if count == index:\n",
    "#         print(seq)\n",
    "#         check_seq(\"second\", seq)\n",
    "#         count += 1\n",
    "#     elif count < index:\n",
    "#         count += 1\n",
    "#     else:\n",
    "#         break\n",
    "#     print(count)"
   ]
  },
  {
   "cell_type": "code",
   "execution_count": 255,
   "metadata": {},
   "outputs": [
    {
     "name": "stdout",
     "output_type": "stream",
     "text": [
      "AA before A: 3\n",
      "AA before B: 3\n",
      "AB before A: 3\n",
      "AB before B: 3\n",
      "BA before A: 2\n",
      "BA before B: 3\n",
      "BB before A: 2\n",
      "BB before B: 3\n"
     ]
    },
    {
     "data": {
      "text/plain": [
       "False"
      ]
     },
     "execution_count": 255,
     "metadata": {},
     "output_type": "execute_result"
    }
   ],
   "source": [
    "check_seq(\"second\", e+f+g+h+I+j+k+l)"
   ]
  },
  {
   "cell_type": "markdown",
   "metadata": {},
   "source": [
    "### Some points:<br>\n",
    "1. Since each subsequence like \"AAB\" has 3 letters, a full sequence containing 3 * 8 = 24 letters, so there are 22 slots for filling things like AB before A and etc, so it is impossible to fulfil the requirement that all 8 criterions are equal. If we consider add 2 letters (so that there are 26 letters and 24 slots in total), then we could possibily fulfil all the criterions, but since now 26 letters give 25 slots for first order, we face new problem that we can't fulfil the criterions of first order since 25 % 4 = 1.<br>\n",
    "\n",
    "2. In other words, to fulfil all the requirements both in first order and second order, we must find a number n such that n - 2 is a multiple of 8 and n - 1 is a multiple of 4, i.e., we need to find integers x and y such that 4x - 1 = 8y. This gives us x = (8y + 1) / 4, this means x could never be an integer..."
   ]
  },
  {
   "cell_type": "code",
   "execution_count": 260,
   "metadata": {},
   "outputs": [],
   "source": [
    "# A function only check second order case\n",
    "def check_2nd_order(sequence):\n",
    "    \"\"\"\n",
    "    Parameters:\n",
    "    ----------------\n",
    "    \n",
    "    sequence: the sequence to be check\n",
    "    \"\"\"\n",
    "    seq_list = list(sequence)\n",
    "    # First check if # of A and B are the same\n",
    "    if sequence.count(\"A\") - sequence.count(\"B\") > 2:\n",
    "        print(\"Number of A and number of B difference too big\")\n",
    "        return False\n",
    "    # Then check second order conditions\n",
    "    else:\n",
    "        AA_to_A, AA_to_B, AB_to_A, AB_to_B, BA_to_A, BA_to_B, BB_to_A, BB_to_B = 0, 0, 0, 0, 0, 0, 0, 0\n",
    "        for i in range(len(seq_list)):\n",
    "            if i > 1:\n",
    "                present = seq_list[i]\n",
    "                prior = seq_list[i-2] + seq_list[i-1]\n",
    "                if prior == \"AA\":\n",
    "                    if present == \"A\":\n",
    "                        AA_to_A += 1\n",
    "                    else:\n",
    "                        AA_to_B += 1\n",
    "                elif prior == \"AB\":\n",
    "                    if present == \"A\":\n",
    "                        AB_to_A += 1\n",
    "                    else:\n",
    "                        AB_to_B += 1\n",
    "                elif prior == \"BA\":\n",
    "                    if present == \"A\":\n",
    "                        BA_to_A += 1\n",
    "                    else:\n",
    "                        BA_to_B += 1\n",
    "                else:\n",
    "                    if present == \"A\":\n",
    "                        BB_to_A += 1\n",
    "                    else:\n",
    "                        BB_to_B += 1\n",
    "        if AA_to_A == AA_to_B == AB_to_A == AB_to_B == BA_to_A == BA_to_B == BB_to_A == BB_to_B:\n",
    "            return True\n",
    "        else:\n",
    "            print(\"AA before A: {}\".format(AA_to_A))\n",
    "            print(\"AA before B: {}\".format(AA_to_B))\n",
    "            print(\"AB before A: {}\".format(AB_to_A))\n",
    "            print(\"AB before B: {}\".format(AB_to_B))\n",
    "            print(\"BA before A: {}\".format(BA_to_A))\n",
    "            print(\"BA before B: {}\".format(BA_to_B))\n",
    "            print(\"BB before A: {}\".format(BB_to_A))\n",
    "            print(\"BB before B: {}\".format(BB_to_B))\n",
    "            return False"
   ]
  },
  {
   "cell_type": "code",
   "execution_count": 264,
   "metadata": {},
   "outputs": [
    {
     "name": "stdout",
     "output_type": "stream",
     "text": [
      "5472\n"
     ]
    }
   ],
   "source": [
    "perm = permutations([e,f,g,h,I,j,k,l])\n",
    "add_on_list = [\"AA\", \"AB\", \"BA\", \"BB\"]\n",
    "ok_list = []\n",
    "\n",
    "for order_list in perm:\n",
    "    seq = \"\"\n",
    "    for item in order_list:\n",
    "        seq += item\n",
    "    for add_on in add_on_list:\n",
    "        new_seq = seq + add_on\n",
    "        if check_2nd_order(new_seq):\n",
    "            ok_list.append(new_seq)\n",
    "print(len(ok_list))"
   ]
  },
  {
   "cell_type": "code",
   "execution_count": null,
   "metadata": {},
   "outputs": [],
   "source": [
    "ok_list"
   ]
  },
  {
   "cell_type": "code",
   "execution_count": 266,
   "metadata": {},
   "outputs": [
    {
     "data": {
      "text/plain": [
       "7.368421052631579"
      ]
     },
     "execution_count": 266,
     "metadata": {},
     "output_type": "execute_result"
    }
   ],
   "source": [
    "40320 / 5472"
   ]
  },
  {
   "cell_type": "code",
   "execution_count": 271,
   "metadata": {},
   "outputs": [
    {
     "data": {
      "text/plain": [
       "1.5"
      ]
     },
     "execution_count": 271,
     "metadata": {},
     "output_type": "execute_result"
    }
   ],
   "source": [
    "24/16"
   ]
  },
  {
   "cell_type": "code",
   "execution_count": 275,
   "metadata": {},
   "outputs": [
    {
     "name": "stdout",
     "output_type": "stream",
     "text": [
      "A before B: 1\n",
      "B before B: 11\n",
      "B before A: 3\n",
      "A before A: 0\n"
     ]
    },
    {
     "data": {
      "text/plain": [
       "False"
      ]
     },
     "execution_count": 275,
     "metadata": {},
     "output_type": "execute_result"
    }
   ],
   "source": [
    "check_seq(\"first\", \"ADBCBACDCBDADCAB\")"
   ]
  },
  {
   "cell_type": "code",
   "execution_count": 335,
   "metadata": {},
   "outputs": [],
   "source": [
    "# Mainly focus on AB case\n",
    "def new_check_seq(criterion, sequence):\n",
    "    \"\"\"\n",
    "    Parameters:\n",
    "    ----------------\n",
    "    \n",
    "    criterion: a string illustrating first order or second order\n",
    "    sequence: the sequence to be check\n",
    "    \"\"\"\n",
    "    seq_list = list(sequence)\n",
    "    # First check if # of A and B are the same\n",
    "    if sequence.count(\"A\") - sequence.count(\"B\") > 2:\n",
    "        print(\"Number of A and number of B difference too big\")\n",
    "        return False\n",
    "    # Then check second order conditions\n",
    "    elif \"second\" in criterion:\n",
    "        AA_to_A, AA_to_B, AB_to_A, AB_to_B, BA_to_A, BA_to_B, BB_to_A, BB_to_B = 0, 0, 0, 0, 0, 0, 0, 0\n",
    "        for i in range(len(seq_list)):\n",
    "            if i > 1:\n",
    "                present = seq_list[i]\n",
    "                prior = seq_list[i-2] + seq_list[i-1]\n",
    "                if prior == \"AA\":\n",
    "                    if present == \"A\":\n",
    "                        AA_to_A += 1\n",
    "                    else:\n",
    "                        AA_to_B += 1\n",
    "                elif prior == \"AB\":\n",
    "                    if present == \"A\":\n",
    "                        AB_to_A += 1\n",
    "                    else:\n",
    "                        AB_to_B += 1\n",
    "                elif prior == \"BA\":\n",
    "                    if present == \"A\":\n",
    "                        BA_to_A += 1\n",
    "                    else:\n",
    "                        BA_to_B += 1\n",
    "                else:\n",
    "                    if present == \"A\":\n",
    "                        BB_to_A += 1\n",
    "                    else:\n",
    "                        BB_to_B += 1\n",
    "        # If the difference between two are similar, consider true\n",
    "        second_score_list = [AA_to_A, AA_to_B, AB_to_A, AB_to_B, BA_to_A, BA_to_B, BB_to_A, BB_to_B]\n",
    "        second_score_list.sort()\n",
    "        \n",
    "        if AA_to_A == AA_to_B == AB_to_A == AB_to_B == BA_to_A == BA_to_B == BB_to_A == BB_to_B:\n",
    "            # Still need to check first order condition\n",
    "            return new_check_seq(\"first\", sequence)\n",
    "        elif (second_score_list[-1] - second_score_list[0]) / second_score_list[-1] <= 0.25:\n",
    "            print(\"AA before A: {}\".format(AA_to_A))\n",
    "            print(\"AA before B: {}\".format(AA_to_B))\n",
    "            print(\"AB before A: {}\".format(AB_to_A))\n",
    "            print(\"AB before B: {}\".format(AB_to_B))\n",
    "            print(\"BA before A: {}\".format(BA_to_A))\n",
    "            print(\"BA before B: {}\".format(BA_to_B))\n",
    "            print(\"BB before A: {}\".format(BB_to_A))\n",
    "            print(\"BB before B: {}\".format(BB_to_B))\n",
    "            return new_check_seq(\"first\", sequence)\n",
    "        else:\n",
    "            print(\"AA before A: {}\".format(AA_to_A))\n",
    "            print(\"AA before B: {}\".format(AA_to_B))\n",
    "            print(\"AB before A: {}\".format(AB_to_A))\n",
    "            print(\"AB before B: {}\".format(AB_to_B))\n",
    "            print(\"BA before A: {}\".format(BA_to_A))\n",
    "            print(\"BA before B: {}\".format(BA_to_B))\n",
    "            print(\"BB before A: {}\".format(BB_to_A))\n",
    "            print(\"BB before B: {}\".format(BB_to_B))\n",
    "            return False\n",
    "    # Now check first order conditions\n",
    "    else:\n",
    "        A_to_B, B_to_B, A_to_A, B_to_A = 0, 0, 0, 0\n",
    "        for i in range(len(seq_list)):\n",
    "            if i > 0:\n",
    "                present = seq_list[i]\n",
    "                prior = seq_list[i - 1]\n",
    "                if prior == \"A\" and present == \"A\":\n",
    "                    A_to_A += 1\n",
    "                elif prior == \"A\" and present == \"B\":\n",
    "                    A_to_B += 1\n",
    "                elif present == \"A\":\n",
    "                    B_to_A += 1\n",
    "                else:\n",
    "                    B_to_B += 1\n",
    "                    \n",
    "        # If the difference between two are similar, consider true\n",
    "        score_list = [A_to_B, B_to_B, A_to_A, B_to_A]\n",
    "        score_list.sort()\n",
    "        if A_to_B == B_to_B == A_to_A == B_to_A:\n",
    "            return True\n",
    "        elif (score_list[-1] - score_list[0]) / score_list[-1] <= 0.25:\n",
    "            print(\"A before B: {}\".format(A_to_B))\n",
    "            print(\"B before B: {}\".format(B_to_B))\n",
    "            print(\"B before A: {}\".format(B_to_A))\n",
    "            print(\"A before A: {}\".format(A_to_A))\n",
    "            return True\n",
    "        else:\n",
    "            print(\"A before B: {}\".format(A_to_B))\n",
    "            print(\"B before B: {}\".format(B_to_B))\n",
    "            print(\"B before A: {}\".format(B_to_A))\n",
    "            print(\"A before A: {}\".format(A_to_A))\n",
    "            return False\n",
    "                "
   ]
  },
  {
   "cell_type": "code",
   "execution_count": 505,
   "metadata": {},
   "outputs": [],
   "source": [
    "import string\n",
    "\n",
    "def will_latin(num):\n",
    "    \"\"\"\n",
    "    Parameters:\n",
    "    ----------------\n",
    "    \n",
    "    num: numbers of treatments\n",
    "    \"\"\"\n",
    "    first_arr = {}\n",
    "    second_arr = {}\n",
    "    # Select the letters that need to be used by the given number\n",
    "    letter_to_use = []\n",
    "    for i in range(num):\n",
    "        letter_to_use.append(i)\n",
    "    shuffle(letter_to_use)\n",
    "    reverse_letters = letter_to_use[::-1]\n",
    "    for i in range(num):\n",
    "        # Construct the right order sequence\n",
    "        right_order = letter_to_use[i:] + letter_to_use[0:i]\n",
    "        first_arr[i] = right_order\n",
    "        # The reverse order sequence\n",
    "        second_arr[i] = right_order[::-1]\n",
    "    \n",
    "    # After construct the two sequence, now we start to build the william's Latin square\n",
    "    final_arr = {}\n",
    "    for i in range(num):\n",
    "        final_arr[i] = []\n",
    "        for j in range(2 * num):\n",
    "            if j % 2 == 0:\n",
    "                final_arr[i].append(first_arr[i][j // 2])\n",
    "            else:\n",
    "                final_arr[i].append(second_arr[i][j // 2])\n",
    "    \n",
    "    # Now we need to consider the given number is even or odd\n",
    "    if num % 2 == 0:\n",
    "        arr_1 = {}\n",
    "        arr_2 = {}\n",
    "        for key in final_arr:\n",
    "            arr_1[key] = final_arr[key][0:num]\n",
    "            arr_2[key] = final_arr[key][num:]\n",
    "        return arr_1, arr_2, final_arr\n",
    "    else: # num is odd\n",
    "        return final_arr"
   ]
  },
  {
   "cell_type": "code",
   "execution_count": 363,
   "metadata": {},
   "outputs": [
    {
     "name": "stdout",
     "output_type": "stream",
     "text": [
      "A before B: 1\n",
      "B before B: 2\n",
      "B before A: 2\n",
      "A before A: 2\n",
      "False\n",
      "A before B: 1\n",
      "B before B: 2\n",
      "B before A: 1\n",
      "A before A: 3\n",
      "False\n",
      "A before B: 2\n",
      "B before B: 2\n",
      "B before A: 2\n",
      "A before A: 1\n",
      "False\n",
      "A before B: 3\n",
      "B before B: 1\n",
      "B before A: 2\n",
      "A before A: 1\n",
      "False\n",
      "A before B: 8\n",
      "B before B: 7\n",
      "B before A: 8\n",
      "A before A: 8\n",
      "True\n"
     ]
    }
   ],
   "source": [
    "# Now we start to use the function above to test the william's latin square\n",
    "# Below is a demo for first order\n",
    "number = 4 # Change if want to test different numbers of treatments\n",
    "array_dict1, array_dict2, all_array_dict = will_latin(4)\n",
    "    \n",
    "\n",
    "A, B, C, D = \"AA\", \"AB\", \"BA\", \"BB\"\n",
    "# Construct a sequence based on the dict\n",
    "var_dict = {\"0\": A, \"1\": B, \"2\": C, \"3\": D}\n",
    "final_seq = \"\"\n",
    "for key in array_dict2:\n",
    "    partial_seq = \"\"\n",
    "    for char in array_dict2[key]:\n",
    "        partial_seq += var_dict[char]\n",
    "        final_seq += var_dict[char]\n",
    "    print(new_check_seq(\"first\", partial_seq))\n",
    "print(new_check_seq(\"first\", final_seq))"
   ]
  },
  {
   "cell_type": "code",
   "execution_count": 358,
   "metadata": {},
   "outputs": [
    {
     "name": "stdout",
     "output_type": "stream",
     "text": [
      "AA before A: 3\n",
      "AA before B: 2\n",
      "AB before A: 2\n",
      "AB before B: 3\n",
      "BA before A: 3\n",
      "BA before B: 3\n",
      "BB before A: 3\n",
      "BB before B: 3\n",
      "False\n",
      "AA before A: 4\n",
      "AA before B: 3\n",
      "AB before A: 1\n",
      "AB before B: 3\n",
      "BA before A: 3\n",
      "BA before B: 2\n",
      "BB before A: 3\n",
      "BB before B: 3\n",
      "False\n",
      "AA before A: 4\n",
      "AA before B: 2\n",
      "AB before A: 3\n",
      "AB before B: 2\n",
      "BA before A: 2\n",
      "BA before B: 3\n",
      "BB before A: 3\n",
      "BB before B: 3\n",
      "False\n",
      "AA before A: 3\n",
      "AA before B: 4\n",
      "AB before A: 3\n",
      "AB before B: 2\n",
      "BA before A: 4\n",
      "BA before B: 1\n",
      "BB before A: 2\n",
      "BB before B: 3\n",
      "False\n",
      "AA before A: 1\n",
      "AA before B: 3\n",
      "AB before A: 3\n",
      "AB before B: 3\n",
      "BA before A: 3\n",
      "BA before B: 3\n",
      "BB before A: 3\n",
      "BB before B: 3\n",
      "False\n",
      "AA before A: 2\n",
      "AA before B: 3\n",
      "AB before A: 4\n",
      "AB before B: 2\n",
      "BA before A: 2\n",
      "BA before B: 4\n",
      "BB before A: 2\n",
      "BB before B: 3\n",
      "False\n",
      "AA before A: 2\n",
      "AA before B: 3\n",
      "AB before A: 3\n",
      "AB before B: 3\n",
      "BA before A: 3\n",
      "BA before B: 2\n",
      "BB before A: 3\n",
      "BB before B: 3\n",
      "False\n",
      "AA before A: 3\n",
      "AA before B: 2\n",
      "AB before A: 3\n",
      "AB before B: 4\n",
      "BA before A: 2\n",
      "BA before B: 4\n",
      "BB before A: 3\n",
      "BB before B: 1\n",
      "False\n",
      "192\n",
      "AA before A: 15\n",
      "AA before B: 15\n",
      "AB before A: 13\n",
      "AB before B: 15\n",
      "BA before A: 16\n",
      "BA before B: 13\n",
      "BB before A: 15\n",
      "BB before B: 16\n",
      "A before B: 28\n",
      "B before B: 31\n",
      "B before A: 29\n",
      "A before A: 31\n",
      "True\n"
     ]
    }
   ],
   "source": [
    "# Similarly, do a demo for second order\n",
    "number = 8 # Change if want to test different numbers of treatments\n",
    "array_dict1, array_dict2, all_array_dict = will_latin(8)\n",
    "    \n",
    "A, B, C, D, E, F, G, H = \"AAA\", \"AAB\", \"ABA\", \"ABB\", \"BAA\", \"BAB\", \"BBA\", \"BBB\"\n",
    "# Construct a sequence based on the dict\n",
    "var_dict = {\"A\": A, \"B\": B, \"C\": C, \"D\": D, \"E\": E, \"F\": F, \"G\": G, \"H\": H}\n",
    "final_seq = \"\"\n",
    "for key in array_dict2:\n",
    "    partial_seq = \"\"\n",
    "    for char in array_dict2[key]:\n",
    "        partial_seq += var_dict[char]\n",
    "        final_seq += var_dict[char]\n",
    "    print(new_check_seq(\"second\", partial_seq))\n",
    "print(len(final_seq))\n",
    "print(new_check_seq(\"second\", final_seq[:120]))"
   ]
  },
  {
   "cell_type": "code",
   "execution_count": 446,
   "metadata": {
    "scrolled": true
   },
   "outputs": [],
   "source": [
    "from itertools import product\n",
    "\n",
    "def initiation(num_of_treatments, order_to_consider):\n",
    "    \"\"\"\n",
    "    Parameters:\n",
    "    ----------------\n",
    "    \n",
    "    num_of_treatments: numbers of single treatments (eg: [AB] is 2 and [ABC] is 3)\n",
    "    order_to_consider: consider second order or only first order\n",
    "    \n",
    "    Return:\n",
    "    ----------------\n",
    "    var_dict: a dict indicating relationship between number and the sequenct it represent\n",
    "    array_dicts: the sequence constructed by william's latin square\n",
    "    \"\"\"\n",
    "    all_letters = string.ascii_uppercase\n",
    "    total_comb = num_of_treatments ** 2 # if only consider first order\n",
    "    if \"second\" in order_to_consider:\n",
    "        total_comb = total_comb * num_of_treatments\n",
    "        prods = product(all_letters[:num_of_treatments], repeat = 3)\n",
    "    else:\n",
    "        prods = product(all_letters[:num_of_treatments], repeat = 2)\n",
    "    \n",
    "    # Create a dictionary for storing variable name in latin square and the correspongding combination\n",
    "    var_dict = {}\n",
    "    index = 0\n",
    "    for comb in prods:\n",
    "        var_dict[index] = \"\".join(comb)\n",
    "        index += 1\n",
    "    \n",
    "    # Construct william's latin square with the number calculated above and return the result\n",
    "    return var_dict, will_latin(total_comb)"
   ]
  },
  {
   "cell_type": "code",
   "execution_count": null,
   "metadata": {},
   "outputs": [],
   "source": [
    "s, t = initiation(3, \"second\")\n",
    "t[1]"
   ]
  },
  {
   "cell_type": "code",
   "execution_count": 489,
   "metadata": {},
   "outputs": [],
   "source": [
    "from random import shuffle\n",
    "\n",
    "def total_check(seq_dict, var_dict, order, to_shuffle = False, until = 0, user_sequence = \"\"):\n",
    "    \"\"\"\n",
    "    Parameters:\n",
    "    ----------------\n",
    "    seq_dict: the sequence dictionary to check\n",
    "    var_dict: a dict indicating relationship between number and the sequenct it represent\n",
    "    order: check first order or second order\n",
    "    to_shuffle: whether to shuffle the dict or not, default is false\n",
    "    until: check sequence until a given index, default is 0, meaning check all the sequence\n",
    "    user_sequence: sometimes user want to manually add sequence, use this, default is \"\" meaning\n",
    "                   use the seq_dict to construct sequence(to_shuffle must be false if use user sequence)\n",
    "    \n",
    "    Return:\n",
    "    ----------------\n",
    "    True if criterions met, False otherwise\n",
    "    \"\"\"\n",
    "    # First construct sequence using seq_dict if no sequence given by user\n",
    "    full_sequence = user_sequence\n",
    "    if full_sequence == \"\":\n",
    "        key_list = list(seq_dict.keys())\n",
    "        if to_shuffle == True: # If to_shuffle is true, shuffle the keys so the rows of the latin square is random\n",
    "            shuffle(key_list)\n",
    "        for key in key_list:\n",
    "            seq = seq_dict[key]\n",
    "            for item in seq:\n",
    "                full_sequence += var_dict[int(item)]\n",
    "    \n",
    "    # Now start to check sequence\n",
    "    # First see if until is set, if yes, we take a subsequence of the original sequence\n",
    "    if until != 0:\n",
    "        full_sequence = full_sequence[:until]\n",
    "    # Start to check\n",
    "    if \"second\" in order:\n",
    "        criterion_count = np.zeros(len(list(var_dict.values())))\n",
    "        criterions = list(var_dict.values())\n",
    "        for i in range(len(full_sequence)):\n",
    "            if i > 1:\n",
    "                for j in range(len(criterions)):\n",
    "                    if full_sequence[i-2:i+1] == criterions[j]:\n",
    "                        criterion_count[j] += 1\n",
    "        \n",
    "        # If the difference between counts are similar, consider true\n",
    "        score_list = list(criterion_count)\n",
    "        score_list.sort()\n",
    "        \n",
    "        # Construct a new var_dict for checking first order conditions\n",
    "        new_var_dict = {}\n",
    "        letters_used_set = set(list(full_sequence))\n",
    "        letters = \"\"\n",
    "        for item in letters_used_set:\n",
    "            letters += item\n",
    "        # Get first order vars\n",
    "        prods = product(letters, repeat = 2)\n",
    "        index = 0\n",
    "        for comb in prods:\n",
    "            new_var_dict[index] = \"\".join(comb)\n",
    "            index += 1\n",
    "\n",
    "        # Get and return result\n",
    "        if score_list[0] == score_list[-1]:\n",
    "            # Still need to check first order condition\n",
    "            return total_check({}, new_var_dict, \"first\", False, until, full_sequence)\n",
    "        elif (score_list[-1] - score_list[0]) / score_list[-1] <= 0.33:\n",
    "            for i in range(len(criterions)):\n",
    "                print(\"{}\\'s count is {}\".format(criterions[i], criterion_count[i]))\n",
    "            return total_check({}, new_var_dict, \"first\", False, until, full_sequence)\n",
    "        elif score_list[-1] <= 10 and score_list[0] != 0 and score_list[-1] - score_list[0] <= 3:\n",
    "            for i in range(len(criterions)):\n",
    "                print(\"{}\\'s count is {}\".format(criterions[i], criterion_count[i]))\n",
    "            return total_check({}, new_var_dict, \"first\", False, until, full_sequence)\n",
    "        else:\n",
    "            print(score_list[-1], score_list[0])\n",
    "            print(\"sequence is {}\".format(full_sequence))\n",
    "            print()\n",
    "            for i in range(len(criterions)):\n",
    "                print(\"{}\\'s count is {}\".format(criterions[i], criterion_count[i]))\n",
    "            return False\n",
    "    # Now check first order conditions\n",
    "    else:\n",
    "        criterion_count = np.zeros(len(list(var_dict.values())))\n",
    "        criterions = list(var_dict.values())\n",
    "        for i in range(len(full_sequence)):\n",
    "            if i > 0:\n",
    "                for j in range(len(criterions)):\n",
    "                    if full_sequence[i-1:i+1] == criterions[j]:\n",
    "                        criterion_count[j] += 1\n",
    "        \n",
    "        # If the difference between counts are similar, consider true\n",
    "        score_list = list(criterion_count)\n",
    "        score_list.sort()\n",
    "\n",
    "        # Get and return result\n",
    "        if score_list[0] == score_list[-1]:\n",
    "            print(\"sequence is {}\".format(full_sequence))\n",
    "            print()\n",
    "            return True\n",
    "        elif (score_list[-1] - score_list[0]) / score_list[-1] <= 0.33:\n",
    "            print(\"sequence is {}, length is {}\".format(full_sequence, len(full_sequence)))\n",
    "            print()\n",
    "            for i in range(len(criterions)):\n",
    "                print(\"{}\\'s count is {}\".format(criterions[i], criterion_count[i]))\n",
    "            return True\n",
    "        elif score_list[-1] <= 10 and score_list[0] != 0 and score_list[-1] - score_list[0] <= 3:\n",
    "            print(\"sequence is {}, length is {}\".format(full_sequence, len(full_sequence)))\n",
    "            print()\n",
    "            for i in range(len(criterions)):\n",
    "                print(\"{}\\'s count is {}\".format(criterions[i], criterion_count[i]))\n",
    "            return True\n",
    "        else:\n",
    "            print(\"sequence is {}, length is {}\".format(full_sequence, len(full_sequence)))\n",
    "            print()\n",
    "            for i in range(len(criterions)):\n",
    "                print(\"{}\\'s count is {}\".format(criterions[i], criterion_count[i]))\n",
    "            return False"
   ]
  },
  {
   "cell_type": "code",
   "execution_count": 509,
   "metadata": {},
   "outputs": [
    {
     "name": "stdout",
     "output_type": "stream",
     "text": [
      "sequence is BAABAACBCABCBBACCCCCACBBBCCACBAAABBA, length is 36\n",
      "\n",
      "AA's count is 4.0\n",
      "AB's count is 3.0\n",
      "AC's count is 4.0\n",
      "BA's count is 5.0\n",
      "BB's count is 4.0\n",
      "BC's count is 3.0\n",
      "CA's count is 3.0\n",
      "CB's count is 4.0\n",
      "CC's count is 5.0\n"
     ]
    },
    {
     "data": {
      "text/plain": [
       "True"
      ]
     },
     "execution_count": 509,
     "metadata": {},
     "output_type": "execute_result"
    }
   ],
   "source": [
    "#var_dict, (seq_dict1, seq_dict2, seq_dict3)  = initiation(3, \"first\")\n",
    "var_dict, seq_dict1  = initiation(3, \"first\")\n",
    "total_check(seq_dict1, var_dict, \"first\", to_shuffle = True, until = 36)"
   ]
  },
  {
   "cell_type": "code",
   "execution_count": 565,
   "metadata": {},
   "outputs": [],
   "source": [
    "import operator\n",
    "\n",
    "# Construct a sequence half manually (by selecting the next row based on the previous row)\n",
    "def manual_construct_seq(seq_dict, var_dict, order, row_num = 0):\n",
    "    '''\n",
    "    Parameters:\n",
    "    ----------------\n",
    "    seq_dict: the sequence dictionary to check\n",
    "    var_dict: a dict indicating relationship between number and the sequenct it represent\n",
    "    order: check first order or second order\n",
    "    row_num: Construct the sequence up to how many row, default is 0 means the number of rows in the latin square\n",
    "    '''\n",
    "    starting = 0\n",
    "    if \"second\" in order:\n",
    "        starting = 1\n",
    "    how_many_rows = row_num\n",
    "    if row_num == 0:\n",
    "        how_many_rows = len(seq_dict)\n",
    "    criterions = list(var_dict.values())\n",
    "    \n",
    "    # Pick a starting row and construct the initial sequence\n",
    "    full_sequence = \"\"\n",
    "    key_list = list(seq_dict.keys())\n",
    "    shuffle(key_list)\n",
    "    seq = seq_dict[key_list[0]]\n",
    "    for item in seq:\n",
    "        full_sequence += var_dict[int(item)]\n",
    "    \n",
    "    # Start to construct the full sequence\n",
    "    row_count = 1\n",
    "    while row_count < how_many_rows:\n",
    "        # Construct a dictionary to store each criterion's count\n",
    "        full_criterion_count = {}\n",
    "        # Check the criterion's count for current sequence\n",
    "        for i in range(len(full_sequence)):\n",
    "            if i > starting:\n",
    "                for j in range(len(criterions)):\n",
    "                    if full_sequence[i-starting-1:i+1] == criterions[j]:\n",
    "                        if criterions[j] in full_criterion_count:\n",
    "                            full_criterion_count[criterions[j]] += 1\n",
    "                        else:\n",
    "                            full_criterion_count[criterions[j]] = 1\n",
    "        # Based on the current dict, pick the next row\n",
    "        sorted_count = sorted(full_criterion_count.items(), key=operator.itemgetter(1))\n",
    "        sorted_count_dict = dict(sorted_count) # Now the first key in this dictionary is the partial seq that is little\n",
    "        shuffle(key_list) # pick the next row that satisfying our requirement\n",
    "        needed_element = list(sorted_count_dict.keys())[0]\n",
    "        check = False\n",
    "        for key in key_list:\n",
    "            partial_sequence = \"\"\n",
    "            seq = seq_dict[key]\n",
    "            for item in seq:\n",
    "                partial_sequence += var_dict[int(item)]\n",
    "            if partial_sequence.startswith(needed_element) and check == False:\n",
    "                full_sequence += partial_sequence\n",
    "                check = True\n",
    "        row_count += 1\n",
    "        \n",
    "    return full_sequence"
   ]
  },
  {
   "cell_type": "code",
   "execution_count": 574,
   "metadata": {},
   "outputs": [
    {
     "name": "stdout",
     "output_type": "stream",
     "text": [
      "9\n",
      "sequence is BCBBAACABAACCCCBABABCBCCACBACAAABBBCBBCABCACAACBBAABCCCCABBACBAAACBCCABBBBCABCACAACBBAABCCCCABBACBAAACBCCABBCBABACCCCABABBAABCBCAABBBACACCACABCBCBABACCCCABABBAABCBCAABBBACACCACABCB, length is 180\n",
      "\n",
      "AA's count is 16.0\n",
      "AB's count is 24.0\n",
      "AC's count is 20.0\n",
      "BA's count is 21.0\n",
      "BB's count is 18.0\n",
      "BC's count is 20.0\n",
      "CA's count is 23.0\n",
      "CB's count is 17.0\n",
      "CC's count is 20.0\n"
     ]
    },
    {
     "data": {
      "text/plain": [
       "False"
      ]
     },
     "execution_count": 574,
     "metadata": {},
     "output_type": "execute_result"
    }
   ],
   "source": [
    "var_dict, seq_dict1  = initiation(3, \"first\")\n",
    "print(len(seq_dict1))\n",
    "seq = manual_construct_seq(seq_dict1, var_dict, \"first\", row_num = 5)\n",
    "total_check(seq_dict1, var_dict, \"first\", until = 0, user_sequence = seq)"
   ]
  },
  {
   "cell_type": "code",
   "execution_count": 512,
   "metadata": {},
   "outputs": [
    {
     "name": "stdout",
     "output_type": "stream",
     "text": [
      "sequence is ACBBBAABBCCACBAACCCCAACBCABCABBABBAC, length is 36\n",
      "\n",
      "AA's count is 3.0\n",
      "AB's count is 4.0\n",
      "AC's count is 5.0\n",
      "BA's count is 4.0\n",
      "BB's count is 5.0\n",
      "BC's count is 3.0\n",
      "CA's count is 4.0\n",
      "CB's count is 3.0\n",
      "CC's count is 4.0\n"
     ]
    },
    {
     "data": {
      "text/plain": [
       "True"
      ]
     },
     "execution_count": 512,
     "metadata": {},
     "output_type": "execute_result"
    }
   ],
   "source": [
    "var_dict, seq_dict1  = initiation(3, \"first\")\n",
    "\n",
    "total_check(seq_dict1, var_dict, \"first\", until = 0, user_sequence = manual_construct_seq(seq_dict1, var_dict, \"first\", row_num = 0))"
   ]
  },
  {
   "cell_type": "code",
   "execution_count": 513,
   "metadata": {},
   "outputs": [],
   "source": [
    "import random\n",
    "\n",
    "def random_sequence(num, length):\n",
    "    '''\n",
    "    Parameter:\n",
    "    ------------------------------\n",
    "    \n",
    "    num: same meaning as will_latin's num, e.g., if want AB, input 2, want ABC, input 3\n",
    "    length: sequence length, meaning how long a sequence we want to build\n",
    "    '''\n",
    "    full_sequence = \"\"\n",
    "    letters_needed = list(string.ascii_uppercase[:num])\n",
    "    for i in range(length):\n",
    "        full_sequence += random.choice(letters_needed)\n",
    "    return full_sequence"
   ]
  },
  {
   "cell_type": "code",
   "execution_count": 514,
   "metadata": {},
   "outputs": [
    {
     "data": {
      "text/plain": [
       "'BABCACBAAAACABA'"
      ]
     },
     "execution_count": 514,
     "metadata": {},
     "output_type": "execute_result"
    }
   ],
   "source": [
    "random_sequence(3,15)"
   ]
  },
  {
   "cell_type": "code",
   "execution_count": 545,
   "metadata": {},
   "outputs": [
    {
     "data": {
      "text/plain": [
       "162"
      ]
     },
     "execution_count": 545,
     "metadata": {},
     "output_type": "execute_result"
    }
   ],
   "source": [
    "18 * 9"
   ]
  },
  {
   "cell_type": "code",
   "execution_count": null,
   "metadata": {},
   "outputs": [],
   "source": []
  }
 ],
 "metadata": {
  "kernelspec": {
   "display_name": "Python 3",
   "language": "python",
   "name": "python3"
  },
  "language_info": {
   "codemirror_mode": {
    "name": "ipython",
    "version": 3
   },
   "file_extension": ".py",
   "mimetype": "text/x-python",
   "name": "python",
   "nbconvert_exporter": "python",
   "pygments_lexer": "ipython3",
   "version": "3.6.8"
  }
 },
 "nbformat": 4,
 "nbformat_minor": 2
}
